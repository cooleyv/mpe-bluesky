{
 "cells": [
  {
   "cell_type": "markdown",
   "metadata": {},
   "source": [
    "Sandbox to test whether dataframes make sense for calling devices in/out positions. See also pickling.ipynb, which tests whether pickled dictionaries work well for this application. "
   ]
  },
  {
   "cell_type": "code",
   "execution_count": 2,
   "metadata": {},
   "outputs": [
    {
     "data": {
      "text/html": [
       "<div>\n",
       "<style scoped>\n",
       "    .dataframe tbody tr th:only-of-type {\n",
       "        vertical-align: middle;\n",
       "    }\n",
       "\n",
       "    .dataframe tbody tr th {\n",
       "        vertical-align: top;\n",
       "    }\n",
       "\n",
       "    .dataframe thead th {\n",
       "        text-align: right;\n",
       "    }\n",
       "</style>\n",
       "<table border=\"1\" class=\"dataframe\">\n",
       "  <thead>\n",
       "    <tr style=\"text-align: right;\">\n",
       "      <th></th>\n",
       "      <th>in</th>\n",
       "      <th>out</th>\n",
       "      <th>axis</th>\n",
       "      <th>units</th>\n",
       "    </tr>\n",
       "  </thead>\n",
       "  <tbody>\n",
       "    <tr>\n",
       "      <th>tomo</th>\n",
       "      <td>0</td>\n",
       "      <td>10</td>\n",
       "      <td>x</td>\n",
       "      <td>mm</td>\n",
       "    </tr>\n",
       "    <tr>\n",
       "      <th>sample</th>\n",
       "      <td>0</td>\n",
       "      <td>10</td>\n",
       "      <td>x</td>\n",
       "      <td>mm</td>\n",
       "    </tr>\n",
       "    <tr>\n",
       "      <th>shield</th>\n",
       "      <td>1</td>\n",
       "      <td>11</td>\n",
       "      <td>x</td>\n",
       "      <td>mm</td>\n",
       "    </tr>\n",
       "  </tbody>\n",
       "</table>\n",
       "</div>"
      ],
      "text/plain": [
       "        in  out axis units\n",
       "tomo     0   10    x    mm\n",
       "sample   0   10    x    mm\n",
       "shield   1   11    x    mm"
      ]
     },
     "execution_count": 2,
     "metadata": {},
     "output_type": "execute_result"
    }
   ],
   "source": [
    "# Generate a dataframe, df, that contains all of the position info.\n",
    "import pandas as pd \n",
    "\n",
    "\n",
    "data = {\n",
    "    'in':   [0,     0,      1],\n",
    "    'out':  [10,    10,     11],\n",
    "    'axis': ['x',   'x',    'x'],\n",
    "    'units':['mm',  'mm',   'mm']\n",
    "}\n",
    "\n",
    "row_labels = ['tomo', 'sample', 'shield']\n",
    "\n",
    "df = pd.DataFrame(data=data, index = row_labels)\n",
    "df"
   ]
  },
  {
   "cell_type": "code",
   "execution_count": 20,
   "metadata": {},
   "outputs": [
    {
     "name": "stdout",
     "output_type": "stream",
     "text": [
      "The IN position of the tomo detector is 0 mm on the x axis.\n"
     ]
    }
   ],
   "source": [
    "# An example of how you might call the in/out entries.\n",
    "#NOTE: The call order [\"value\"][\"device\"] is opposite for nested dictionary.\n",
    "print(\n",
    "    \"The IN position of the tomo detector is \"\n",
    "    + str(df[\"in\"][\"tomo\"])\n",
    "    + \" \"\n",
    "    + df[\"units\"][\"tomo\"]\n",
    "    + \" on the \"\n",
    "    + df[\"axis\"][\"tomo\"]\n",
    "    +\" axis.\"\n",
    ")\n"
   ]
  },
  {
   "cell_type": "code",
   "execution_count": 21,
   "metadata": {},
   "outputs": [
    {
     "data": {
      "text/html": [
       "<div>\n",
       "<style scoped>\n",
       "    .dataframe tbody tr th:only-of-type {\n",
       "        vertical-align: middle;\n",
       "    }\n",
       "\n",
       "    .dataframe tbody tr th {\n",
       "        vertical-align: top;\n",
       "    }\n",
       "\n",
       "    .dataframe thead th {\n",
       "        text-align: right;\n",
       "    }\n",
       "</style>\n",
       "<table border=\"1\" class=\"dataframe\">\n",
       "  <thead>\n",
       "    <tr style=\"text-align: right;\">\n",
       "      <th></th>\n",
       "      <th>in</th>\n",
       "      <th>out</th>\n",
       "      <th>axis</th>\n",
       "      <th>units</th>\n",
       "    </tr>\n",
       "  </thead>\n",
       "  <tbody>\n",
       "    <tr>\n",
       "      <th>tomo</th>\n",
       "      <td>0</td>\n",
       "      <td>10</td>\n",
       "      <td>x</td>\n",
       "      <td>mm</td>\n",
       "    </tr>\n",
       "    <tr>\n",
       "      <th>sample</th>\n",
       "      <td>0</td>\n",
       "      <td>10</td>\n",
       "      <td>x</td>\n",
       "      <td>mm</td>\n",
       "    </tr>\n",
       "    <tr>\n",
       "      <th>shield</th>\n",
       "      <td>1</td>\n",
       "      <td>11</td>\n",
       "      <td>x</td>\n",
       "      <td>mm</td>\n",
       "    </tr>\n",
       "  </tbody>\n",
       "</table>\n",
       "</div>"
      ],
      "text/plain": [
       "        in  out axis units\n",
       "tomo     0   10    x    mm\n",
       "sample   0   10    x    mm\n",
       "shield   1   11    x    mm"
      ]
     },
     "execution_count": 21,
     "metadata": {},
     "output_type": "execute_result"
    }
   ],
   "source": [
    "# Writing dataframe to file with pickled serialization. \n",
    "\n",
    "import pickle \n",
    "df.to_pickle(\"devices_df.pkl\")\n",
    "\n",
    "# Importing pickled dataframe and checking structure\n",
    "df_import = pd.read_pickle(\"devices_df.pkl\")\n",
    "df_import"
   ]
  },
  {
   "cell_type": "code",
   "execution_count": null,
   "metadata": {},
   "outputs": [],
   "source": []
  }
 ],
 "metadata": {
  "kernelspec": {
   "display_name": "bluesky_2024_1",
   "language": "python",
   "name": "python3"
  },
  "language_info": {
   "codemirror_mode": {
    "name": "ipython",
    "version": 3
   },
   "file_extension": ".py",
   "mimetype": "text/x-python",
   "name": "python",
   "nbconvert_exporter": "python",
   "pygments_lexer": "ipython3",
   "version": "3.11.7"
  }
 },
 "nbformat": 4,
 "nbformat_minor": 2
}
