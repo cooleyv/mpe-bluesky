{
 "cells": [
  {
   "cell_type": "code",
   "execution_count": null,
   "metadata": {},
   "outputs": [],
   "source": [
    "from ophyd import PointGreyDetector, SingleTrigger\n",
    "from ophyd import ADComponent, ImagePlugin, PixiradDetector, SingleTrigger\n",
    "from ophyd.areadetector.filestore_mixins import FileStoreHDF5IterativeWrite, FileStoreTIFFIterativeWrite\n",
    "from ophyd.areadetector.plugins import HDF5Plugin_V34, TIFFPlugin\n",
    "import os\n",
    "\n",
    "DET_FILES_ROOT = \"S:\\\\mpe_feb24\\\\tomo_in_e\\\\\" #NOTE: Windows machine has special directory \n",
    "BLUESKY_FILES_ROOT = \"/home/beams/S1IDUSER/mnt/s1c/\" #vantage point of bluesky reading the files\n",
    "TEST_IMAGE_DIR = \"mpe_feb24/tomo_in_e/\" #directory where images go \n",
    "\n",
    "class MyHDF5Plugin(FileStoreHDF5IterativeWrite, HDF5Plugin_V34): ...\n",
    "class MyTIFFPlugin(FileStoreTIFFIterativeWrite, TIFFPlugin): ...\n",
    "\n",
    "class s1PointGrey(SingleTrigger, PointGreyDetector):\n",
    "    \"\"\"Try making a camera with a trigger.\"\"\"\n",
    "    # hdf1 = ADComponent(\n",
    "    #     MyHDF5Plugin,\n",
    "    #     \"HDF1:\",    \n",
    "    #     write_path_template=os.path.join(DET_FILES_ROOT, TEST_IMAGE_DIR),\n",
    "    #     read_path_template=os.path.join(BLUESKY_FILES_ROOT, TEST_IMAGE_DIR),\n",
    "    # )\n",
    "    \n",
    "    #image = ADComponent(ImagePlugin, \"IMAGE1:\")    #TODO: check image plugin pv is correct\n",
    "    \n",
    "    tiff1 = ADComponent(\n",
    "        MyTIFFPlugin,\n",
    "        \"TIFF1:\",\n",
    "        #write_path_template = os.path.join(DET_FILES_ROOT, TEST_IMAGE_DIR), #would work for linux machine\n",
    "        write_path_template = DET_FILES_ROOT,\n",
    "        read_path_template = os.path.join(BLUESKY_FILES_ROOT, TEST_IMAGE_DIR))\n",
    "\n",
    "    #Simple tiff plugin\n",
    "    #tiff1 = ADComponent(TIFFPlugin, \"TIFF1:\")\n",
    "    \n",
    "test_det = s1PointGrey(\"1idPG1:\", name = \"test_det\")   \n",
    "\n",
    "\n",
    "#Staging params here\n",
    "#test_det.hdf1.create_directory.put(-5)\n",
    "# test_det.cam.stage_sigs[\"acquire_time\"] = 0.3\n",
    "# test_det.cam.stage_sigs[\"acquire_period\"] = 0.4\n",
    "# test_det.cam.stage_sigs[\"num_images\"] = 20\n",
    "# test_det.cam.stage_sigs[\"image_mode\"] = 'Multiple'\n"
   ]
  },
  {
   "cell_type": "code",
   "execution_count": 13,
   "metadata": {},
   "outputs": [
    {
     "data": {
      "text/plain": [
       "OrderedDict([('enable', 1),\n",
       "             ('blocking_callbacks', 'Yes'),\n",
       "             ('parent.cam.array_callbacks', 1),\n",
       "             ('auto_increment', 'Yes'),\n",
       "             ('array_counter', 0),\n",
       "             ('auto_save', 'Yes'),\n",
       "             ('num_capture', 0),\n",
       "             ('file_template', '%s%s_%6.6d.tiff'),\n",
       "             ('file_write_mode', 'Single')])"
      ]
     },
     "execution_count": 13,
     "metadata": {},
     "output_type": "execute_result"
    }
   ],
   "source": [
    "#Complex tiff1 plugin format\n",
    "test_det.tiff1.stage_sigs"
   ]
  },
  {
   "cell_type": "code",
   "execution_count": 11,
   "metadata": {},
   "outputs": [
    {
     "data": {
      "text/plain": [
       "OrderedDict([('enable', 1),\n",
       "             ('blocking_callbacks', 'Yes'),\n",
       "             ('parent.cam.array_callbacks', 1)])"
      ]
     },
     "execution_count": 11,
     "metadata": {},
     "output_type": "execute_result"
    }
   ],
   "source": [
    "#Simple tiff1 plugin format\n",
    "test_det.tiff1.stage_sigs"
   ]
  },
  {
   "cell_type": "code",
   "execution_count": 17,
   "metadata": {},
   "outputs": [],
   "source": [
    "#staging, triggering, and unstaging\n",
    "\n",
    "test_det.stage()\n",
    "#st = test_det.trigger()\n",
    "#test_det.unstage()"
   ]
  },
  {
   "cell_type": "code",
   "execution_count": null,
   "metadata": {},
   "outputs": [],
   "source": [
    "st.wait()"
   ]
  },
  {
   "cell_type": "code",
   "execution_count": 15,
   "metadata": {},
   "outputs": [],
   "source": [
    "test_det.unstage()"
   ]
  },
  {
   "cell_type": "code",
   "execution_count": null,
   "metadata": {},
   "outputs": [],
   "source": [
    "#HDF plugin staging params (copied from pilatus example)\n",
    "\n",
    "test_det.hdf1.stage_sigs[\"lazy_open\"] = 1\n",
    "#det.hdf1.stage_sigs[\"compression\"] = \"LZ4\"\n",
    "test_det.hdf1.stage_sigs[\"file_template\"] = \"%s%s_%3.3d.h5\"\n",
    "del test_det.hdf1.stage_sigs[\"capture\"]  #LazyOpening setting must happen before plugin capture; change order in dictionary\n",
    "test_det.hdf1.stage_sigs[\"capture\"] = 1  #set as last action"
   ]
  },
  {
   "cell_type": "code",
   "execution_count": null,
   "metadata": {},
   "outputs": [],
   "source": [
    "##Trying to acquire an save an image\n",
    "\n",
    "#try this to see if lazyopen worked\n",
    "test_pixi.stage()\n",
    "\n",
    "#do this if you got an error\n",
    "#det.warmup()"
   ]
  },
  {
   "cell_type": "code",
   "execution_count": null,
   "metadata": {},
   "outputs": [],
   "source": [
    "#find the file that was written by the IOC\n",
    "test_det.hdf1.full_file_name.get()"
   ]
  },
  {
   "cell_type": "code",
   "execution_count": null,
   "metadata": {},
   "outputs": [],
   "source": []
  }
 ],
 "metadata": {
  "kernelspec": {
   "display_name": "bluesky_2023_2",
   "language": "python",
   "name": "python3"
  },
  "language_info": {
   "codemirror_mode": {
    "name": "ipython",
    "version": 3
   },
   "file_extension": ".py",
   "mimetype": "text/x-python",
   "name": "python",
   "nbconvert_exporter": "python",
   "pygments_lexer": "ipython3",
   "version": "3.11.7"
  }
 },
 "nbformat": 4,
 "nbformat_minor": 2
}
