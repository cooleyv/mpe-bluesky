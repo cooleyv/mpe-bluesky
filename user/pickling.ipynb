{
 "cells": [
  {
   "cell_type": "markdown",
   "metadata": {},
   "source": [
    "Sandbox to test dictionary pickling and demonstrate its effectiveness. The purpose is to develop a dictionary for device in/out stage positions. Also a possibility of creating a dictionary for picking alignment detectors based on the stage/device we want to align (e.g., upstream tomo in E hutch for sms_aero).  "
   ]
  },
  {
   "cell_type": "code",
   "execution_count": 9,
   "metadata": {},
   "outputs": [
    {
     "data": {
      "text/plain": [
       "dict"
      ]
     },
     "execution_count": 9,
     "metadata": {},
     "output_type": "execute_result"
    }
   ],
   "source": [
    "# Create an example dictionary of devices. \n",
    "\n",
    "device_info = {\n",
    "    'tomo': {\n",
    "        'axis':'x', 'in':0, 'out':10, 'units': 'mm'},\n",
    "    'sample': {\n",
    "        'axis':'x', 'in':0, 'out':11, 'units': 'mm'},   \n",
    "    'shield': {\n",
    "        'axis':'x', 'in':1, 'out': 6, 'units':'mm'}\n",
    "}\n",
    "\n",
    "# Demonstrate that this object has a dictionary state as-is\n",
    "type(device_info)"
   ]
  },
  {
   "cell_type": "code",
   "execution_count": 10,
   "metadata": {},
   "outputs": [
    {
     "name": "stdout",
     "output_type": "stream",
     "text": [
      "{'tomo': {'axis': 'x', 'in': 0, 'out': 10, 'units': 'mm'}, 'sample': {'axis': 'x', 'in': 0, 'out': 11, 'units': 'mm'}, 'shield': {'axis': 'x', 'in': 1, 'out': 6, 'units': 'mm'}}\n"
     ]
    }
   ],
   "source": [
    "# Write dictionary to file without serialization. \n",
    "# File in local folder; see name below. \n",
    "\n",
    "with open('device_info_nonserial.txt','w') as data:\n",
    "      data.write(str(device_info))\n",
    "      \n",
    "# Import non-serialized text. Notice it has all been converted to str.\n",
    "with open(\"device_info_nonserial.txt\", 'r') as f:\n",
    "    for devices in f:\n",
    "        print(devices)\n"
   ]
  },
  {
   "cell_type": "code",
   "execution_count": 11,
   "metadata": {},
   "outputs": [
    {
     "data": {
      "text/plain": [
       "str"
      ]
     },
     "execution_count": 11,
     "metadata": {},
     "output_type": "execute_result"
    }
   ],
   "source": [
    "# Recheck the type. Notice that the state isn't preserved w/o serialization. \n",
    "type(devices)"
   ]
  },
  {
   "cell_type": "code",
   "execution_count": 12,
   "metadata": {},
   "outputs": [
    {
     "name": "stdout",
     "output_type": "stream",
     "text": [
      "{'tomo': {'axis': 'x', 'in': 0, 'out': 10, 'units': 'mm'}, 'sample': {'axis': 'x', 'in': 0, 'out': 11, 'units': 'mm'}, 'shield': {'axis': 'x', 'in': 1, 'out': 6, 'units': 'mm'}}\n"
     ]
    }
   ],
   "source": [
    "# Now write dictionary with serialization provided by pickle. \n",
    "\n",
    "import pickle \n",
    "\n",
    "with open('device_info_serial.pkl', 'wb') as f:     #wb = write binary\n",
    "    pickle.dump(device_info, f)\n",
    "    \n",
    "#f.close()\n",
    "\n",
    "# Import dictionary and deserialize to produce an object with state preserved.\n",
    "with open('device_info_serial.pkl', 'rb') as f:     #rb = read binary\n",
    "    devices = pickle.load(f)\n",
    "    print(devices)"
   ]
  },
  {
   "cell_type": "code",
   "execution_count": 13,
   "metadata": {},
   "outputs": [
    {
     "data": {
      "text/plain": [
       "dict"
      ]
     },
     "execution_count": 13,
     "metadata": {},
     "output_type": "execute_result"
    }
   ],
   "source": [
    "# Final check that the state is preserved.\n",
    "type(devices)"
   ]
  },
  {
   "cell_type": "code",
   "execution_count": 22,
   "metadata": {},
   "outputs": [
    {
     "name": "stdout",
     "output_type": "stream",
     "text": [
      "The IN position of the tomo detector is 0 mm on the x axis.\n"
     ]
    }
   ],
   "source": [
    "# An example of how you might call the in/out entries\n",
    "\n",
    "print(\n",
    "    \"The IN position of the tomo detector is \"\n",
    "    + str(devices[\"tomo\"][\"in\"])\n",
    "    + \" \"\n",
    "    + devices[\"tomo\"][\"units\"]\n",
    "    + \" on the \"\n",
    "    + devices[\"tomo\"][\"axis\"]\n",
    "    +\" axis.\"\n",
    ")\n"
   ]
  }
 ],
 "metadata": {
  "kernelspec": {
   "display_name": "bluesky_2024_1",
   "language": "python",
   "name": "python3"
  },
  "language_info": {
   "codemirror_mode": {
    "name": "ipython",
    "version": 3
   },
   "file_extension": ".py",
   "mimetype": "text/x-python",
   "name": "python",
   "nbconvert_exporter": "python",
   "pygments_lexer": "ipython3",
   "version": "3.11.7"
  }
 },
 "nbformat": 4,
 "nbformat_minor": 2
}
