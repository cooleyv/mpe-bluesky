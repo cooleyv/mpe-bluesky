{
 "cells": [
  {
   "cell_type": "markdown",
   "metadata": {},
   "source": [
    "Testing code to create grid coordinates for a scan for four inputted coordinates. "
   ]
  },
  {
   "cell_type": "code",
   "execution_count": null,
   "metadata": {},
   "outputs": [],
   "source": [
    "import numpy as np \n",
    "import matplotlib.pyplot as plt \n",
    "import functools\n",
    "import math"
   ]
  },
  {
   "cell_type": "code",
   "execution_count": null,
   "metadata": {},
   "outputs": [],
   "source": [
    "#Example points and step size a user might plug in; can be any number of x,y coordinates\n",
    "#FIXME: Needs to be a convex shape (breaks for concave)\n",
    "pts = [[0,0.5],[3,2],[2,0.5],[0,1],[2,-1],[-0.5,0.5]]\n",
    "pts3d = [[0,0.5,0],[3,2,1],[2,0.5,1.5],[0,1,0.5],[2,-1,-1],[-0.5,0.5,0]]\n",
    "step = 0.1\n",
    "\n",
    "#Define a measure of angle to sort coordinates into clockwise list\n",
    "def clockwiseangle_and_distance(point):\n",
    "    origin = [0,0]\n",
    "    refvec = [0,1]  #i.e., pointing up\n",
    "    \n",
    "    # Vector between point and the origin: v = p - o\n",
    "    vector = [point[0]-origin[0], point[1]-origin[1]]\n",
    "    \n",
    "    # Length of vector: ||v||\n",
    "    lenvector = math.hypot(vector[0], vector[1])\n",
    "    \n",
    "    # If length is zero there is no angle\n",
    "    if lenvector == 0:\n",
    "        return -math.pi, 0\n",
    "    \n",
    "    # Normalize vector: v/||v||\n",
    "    normalized = [vector[0]/lenvector, vector[1]/lenvector]\n",
    "    dotprod  = normalized[0]*refvec[0] + normalized[1]*refvec[1]     # x1*x2 + y1*y2\n",
    "    diffprod = refvec[1]*normalized[0] - refvec[0]*normalized[1]     # x1*y2 - y1*x2\n",
    "    angle = math.atan2(diffprod, dotprod)\n",
    "    \n",
    "    # Negative angles represent counter-clockwise angles so we need to subtract them \n",
    "    # from 2*pi (360 degrees)\n",
    "    if angle < 0:\n",
    "        return 2*math.pi+angle, lenvector\n",
    "    \n",
    "    #FIXME: if two vectors have the same angle then the shorter distance should come first.\n",
    "    return angle, lenvector\n",
    "\n",
    "sorted_pts = sorted(pts3d, key = clockwiseangle_and_distance)\n",
    "sorted_pts.append(sorted_pts[0])   #add starting coordinate to the end to make a closed shape in plot\n",
    "arr = np.array(sorted_pts)"
   ]
  },
  {
   "cell_type": "code",
   "execution_count": null,
   "metadata": {},
   "outputs": [],
   "source": [
    "#Generate grid that covers shape from min to max values\n",
    "x = np.arange(min(arr[:,0]), max(arr[:,0])+step, step)  #add step to include max\n",
    "y = np.arange(min(arr[:,1]), max(arr[:,1])+step, step)\n",
    "z = np.arange(min(arr[:,2]), max(arr[:,1])+step, step)\n",
    "#a,b = np.meshgrid(x,y)\n",
    "a,b,c = np.meshgrid(x,y,z)\n",
    "#points = np.stack([a.reshape(-1), b.reshape(-1)]).T     #reshape into array\n",
    "points3d = np.stack([a.reshape(-1), b.reshape(-1),c.reshape(-1)]).T     #reshape into array\n",
    "\n",
    "print(points3d)"
   ]
  },
  {
   "cell_type": "code",
   "execution_count": null,
   "metadata": {},
   "outputs": [],
   "source": [
    "#METHOD 1-- Doesn't work on concave shapes, great for convex, any number of vertices\n",
    "\n",
    "#Calculate center of array\n",
    "center = np.mean(arr, axis = 0)\n",
    "\n",
    "# #Create true/false array to mask points covering shape\n",
    "def normal(a,b):\n",
    "    v = b-a\n",
    "    n = np.array([v[1], -v[0]]) #FIXME: problem with representing in 3d is here\n",
    "    #normal needs to point out\n",
    "    if (center-a)@n > 0:\n",
    "         n *= -1\n",
    "    return n\n",
    "\n",
    "mask = functools.reduce(np.logical_and, [((points3d-a)@normal(a, b)) > 0.001 for a,b in zip(arr[:-1], arr[1:])])\n",
    "#mask2 = functools.reduce(np.logical_and, [((points-a)@normal(a, b)) < 0 for a,b in zip(arr[:-1], arr[1:])])\n",
    "plt.plot(arr[:,0],arr[:,1],arr[:,2])\n",
    "plt.gca().set_aspect('equal')\n",
    "plt.scatter(points3d[mask][:,0], points3d[mask][:,1],points3d[mask][:,2])\n",
    "#plt.scatter(points[mask][:,0], points[mask][:,1])\n",
    "#plt.scatter(points[:,0], points[:,1])"
   ]
  },
  {
   "cell_type": "code",
   "execution_count": 14,
   "metadata": {},
   "outputs": [
    {
     "ename": "ValueError",
     "evalue": "matmul: Input operand 1 has a mismatch in its core dimension 0, with gufunc signature (n?,k),(k,m?)->(n?,m?) (size 2 is different from 3)",
     "output_type": "error",
     "traceback": [
      "\u001b[0;31m---------------------------------------------------------------------------\u001b[0m",
      "\u001b[0;31mValueError\u001b[0m                                Traceback (most recent call last)",
      "\u001b[1;32m/home/beams/S1IDTEST/bluesky/user/grid_any_shape.ipynb Cell 6\u001b[0m line \u001b[0;36m2\n\u001b[1;32m      <a href='vscode-notebook-cell:/home/beams/S1IDTEST/bluesky/user/grid_any_shape.ipynb#X13sZmlsZQ%3D%3D?line=0'>1</a>\u001b[0m \u001b[39mfor\u001b[39;00m a,b \u001b[39min\u001b[39;00m \u001b[39mzip\u001b[39m(arr[:\u001b[39m-\u001b[39m\u001b[39m1\u001b[39m], arr[\u001b[39m1\u001b[39m:]):\n\u001b[0;32m----> <a href='vscode-notebook-cell:/home/beams/S1IDTEST/bluesky/user/grid_any_shape.ipynb#X13sZmlsZQ%3D%3D?line=1'>2</a>\u001b[0m     \u001b[39mprint\u001b[39m(normal(a,b))\n",
      "\u001b[1;32m/home/beams/S1IDTEST/bluesky/user/grid_any_shape.ipynb Cell 6\u001b[0m line \u001b[0;36m1\n\u001b[1;32m      <a href='vscode-notebook-cell:/home/beams/S1IDTEST/bluesky/user/grid_any_shape.ipynb#X13sZmlsZQ%3D%3D?line=8'>9</a>\u001b[0m n \u001b[39m=\u001b[39m np\u001b[39m.\u001b[39marray([v[\u001b[39m1\u001b[39m], \u001b[39m-\u001b[39mv[\u001b[39m0\u001b[39m]])\n\u001b[1;32m     <a href='vscode-notebook-cell:/home/beams/S1IDTEST/bluesky/user/grid_any_shape.ipynb#X13sZmlsZQ%3D%3D?line=9'>10</a>\u001b[0m \u001b[39m#normal needs to point out\u001b[39;00m\n\u001b[0;32m---> <a href='vscode-notebook-cell:/home/beams/S1IDTEST/bluesky/user/grid_any_shape.ipynb#X13sZmlsZQ%3D%3D?line=10'>11</a>\u001b[0m \u001b[39mif\u001b[39;00m (center\u001b[39m-\u001b[39;49ma)\u001b[39m@n\u001b[39;49m \u001b[39m>\u001b[39m \u001b[39m0\u001b[39m:\n\u001b[1;32m     <a href='vscode-notebook-cell:/home/beams/S1IDTEST/bluesky/user/grid_any_shape.ipynb#X13sZmlsZQ%3D%3D?line=11'>12</a>\u001b[0m      n \u001b[39m*\u001b[39m\u001b[39m=\u001b[39m \u001b[39m-\u001b[39m\u001b[39m1\u001b[39m\n\u001b[1;32m     <a href='vscode-notebook-cell:/home/beams/S1IDTEST/bluesky/user/grid_any_shape.ipynb#X13sZmlsZQ%3D%3D?line=12'>13</a>\u001b[0m \u001b[39mreturn\u001b[39;00m n\n",
      "\u001b[0;31mValueError\u001b[0m: matmul: Input operand 1 has a mismatch in its core dimension 0, with gufunc signature (n?,k),(k,m?)->(n?,m?) (size 2 is different from 3)"
     ]
    }
   ],
   "source": [
    "for a,b in zip(arr[:-1], arr[1:]):\n",
    "    "
   ]
  },
  {
   "cell_type": "code",
   "execution_count": null,
   "metadata": {},
   "outputs": [],
   "source": [
    "#TODO: test in 3D\n",
    "\n",
    "from matplotlib.path import Path\n",
    "\n",
    "x = np.arange(min(arr[:,0]), max(arr[:,0])+step, step)  #add step to include max\n",
    "y = np.arange(min(arr[:,1]), max(arr[:,1])+step, step)\n",
    "a,b = np.meshgrid(x,y)\n",
    "points = np.stack([a.reshape(-1), b.reshape(-1)]).T \n",
    "\n",
    "# x, y = np.meshgrid(np.arange(300), np.arange(300)) # make a canvas with coordinates\n",
    "# x, y = x.flatten(), y.flatten()\n",
    "# points = np.vstack((x,y)).T \n",
    "\n",
    "p = Path(arr) # make a polygon\n",
    "grid = p.contains_points(points)\n",
    "#mask = grid.reshape(300,300) # now you have a mask with points inside a polygon\n",
    "\n",
    "#ax = plt.figure().add_subplot(projection = '3d')\n",
    "\n",
    "plt.plot(arr[:,0],arr[:,1],arr[:,2])\n",
    "plt.gca().set_aspect('equal')\n",
    "plt.scatter(points[grid][:,0], points[grid][:,1],points3d[grid][:,2])\n",
    "\n",
    "#plt.show()"
   ]
  },
  {
   "cell_type": "markdown",
   "metadata": {},
   "source": [
    "2.28.24 -- Traditional grid scans, beginning with what kind of inputs. Later: addressing slow motor/nested scanning. "
   ]
  },
  {
   "cell_type": "code",
   "execution_count": 23,
   "metadata": {},
   "outputs": [],
   "source": [
    "def scan_layer(\n",
    "    start_pos = None,\n",
    "    nsteps = None,\n",
    "    step = None, \n",
    "    end_pos = None,\n",
    "    motor = None\n",
    "):\n",
    "    return start_pos, nsteps, motor\n",
    "\n"
   ]
  },
  {
   "cell_type": "code",
   "execution_count": 28,
   "metadata": {},
   "outputs": [],
   "source": [
    "my_start, my_steps, my_motor = scan_layer(1,2,3,5)"
   ]
  },
  {
   "cell_type": "code",
   "execution_count": 29,
   "metadata": {},
   "outputs": [],
   "source": [
    "my_motor"
   ]
  },
  {
   "cell_type": "code",
   "execution_count": null,
   "metadata": {},
   "outputs": [],
   "source": []
  }
 ],
 "metadata": {
  "kernelspec": {
   "display_name": "bluesky_2023_2",
   "language": "python",
   "name": "python3"
  },
  "language_info": {
   "codemirror_mode": {
    "name": "ipython",
    "version": 3
   },
   "file_extension": ".py",
   "mimetype": "text/x-python",
   "name": "python",
   "nbconvert_exporter": "python",
   "pygments_lexer": "ipython3",
   "version": "3.10.10"
  }
 },
 "nbformat": 4,
 "nbformat_minor": 2
}
