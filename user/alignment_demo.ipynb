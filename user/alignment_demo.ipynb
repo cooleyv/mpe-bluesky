{
 "cells": [
  {
   "cell_type": "markdown",
   "metadata": {},
   "source": [
    "Demonstration notebook showing an example alignment of the SAXS pin diode. While there is no beam, a simulated noisy detector will be used with the pin diode motors to align a peak."
   ]
  },
  {
   "cell_type": "code",
   "execution_count": 3,
   "metadata": {},
   "outputs": [
    {
     "name": "stderr",
     "output_type": "stream",
     "text": [
      "I Wed-16:36:27 - /home/beams/S1IDTEST/bluesky/instrument/collection.py\n",
      "I Wed-16:36:27 - CONDA_PREFIX = /home/beams/S1IDUSER/.conda/envs/bluesky_2024_1\n"
     ]
    },
    {
     "name": "stdout",
     "output_type": "stream",
     "text": [
      "Exception reporting mode: Minimal\n"
     ]
    },
    {
     "name": "stderr",
     "output_type": "stream",
     "text": [
      "I Wed-16:36:27 - xmode exception level: 'Minimal'\n",
      "I Wed-16:36:27 - #### Bluesky Framework ####\n",
      "I Wed-16:36:27 - #### Devices ####\n",
      "I Wed-16:36:27 - /home/beams/S1IDTEST/bluesky/instrument/devices/ioc1ide1_motors.py\n",
      "I Wed-16:36:28 - /home/beams/S1IDTEST/bluesky/instrument/devices/generic_motors.py\n",
      "I Wed-16:36:28 - /home/beams/S1IDTEST/bluesky/instrument/devices/ioc1idc_motors.py\n",
      "I Wed-16:36:29 - /home/beams/S1IDTEST/bluesky/instrument/devices/ioc1ide_scalers.py\n",
      "I Wed-16:36:34 - /home/beams/S1IDTEST/bluesky/instrument/devices/s1id_shutters.py\n"
     ]
    },
    {
     "name": "stdout",
     "output_type": "stream",
     "text": [
      "/home/beams/S1IDUSER/.conda/envs/bluesky_2024_1/lib/python3.11/site-packages/apstools/devices/aps_data_management.py\n"
     ]
    },
    {
     "name": "stderr",
     "output_type": "stream",
     "text": [
      "I Wed-16:36:34 - /home/beams/S1IDTEST/bluesky/instrument/devices/s1id_slits.py\n",
      "I Wed-16:36:34 - #### Callbacks ####\n",
      "I Wed-16:36:34 - /home/beams/S1IDTEST/bluesky/instrument/callbacks/spec_data_file_writer.py\n",
      "I Wed-16:36:34 - #### Plans ####\n",
      "I Wed-16:36:34 - /home/beams/S1IDTEST/bluesky/instrument/plans/bdp202403.py\n",
      "I Wed-16:36:34 - /home/beams/S1IDTEST/bluesky/instrument/plans/ad_setup_plans.py\n",
      "I Wed-16:36:34 - /home/beams/S1IDTEST/bluesky/instrument/plans/software_triggering.py\n",
      "I Wed-16:36:34 - /home/beams/S1IDTEST/bluesky/instrument/plans/saxs_startup.py\n"
     ]
    },
    {
     "ename": "ImportError",
     "evalue": "cannot import name 'lineup2' from 'apstools.plans' (/home/beams/S1IDUSER/.conda/envs/bluesky_2024_1/lib/python3.11/site-packages/apstools/plans/__init__.py)",
     "output_type": "error",
     "traceback": [
      "\u001b[0;31mImportError\u001b[0m\u001b[0;31m:\u001b[0m cannot import name 'lineup2' from 'apstools.plans' (/home/beams/S1IDUSER/.conda/envs/bluesky_2024_1/lib/python3.11/site-packages/apstools/plans/__init__.py)\n"
     ]
    }
   ],
   "source": [
    "#Start Bluesky and import devices, plans\n",
    "\n",
    "import pathlib, sys\n",
    "sys.path.append(str(\"/home/beams/S1IDTEST/bluesky/\"))\n",
    "\n",
    "from instrument.collection import *"
   ]
  },
  {
   "cell_type": "code",
   "execution_count": 4,
   "metadata": {},
   "outputs": [
    {
     "name": "stdout",
     "output_type": "stream",
     "text": [
      "/home/beams0/S1IDTEST/bluesky/user\n",
      "/home/beams/S1IDUSER/.conda/envs/bluesky_2024_1/lib/python311.zip\n",
      "/home/beams/S1IDUSER/.conda/envs/bluesky_2024_1/lib/python3.11\n",
      "/home/beams/S1IDUSER/.conda/envs/bluesky_2024_1/lib/python3.11/lib-dynload\n",
      "\n",
      "/home/beams/S1IDUSER/.conda/envs/bluesky_2024_1/lib/python3.11/site-packages\n",
      "/home/beams/S1IDTEST/bluesky/\n",
      "/home/beams/S1IDTEST/bluesky\n",
      "home/beams/S1IDTEST/bluesky/instrument/devices\n",
      "home/beams/S1IDTEST/bluesky/instrument/devices\n",
      "/home/beams/S1IDTEST/bluesky/\n",
      "/home/beams/S1IDTEST/bluesky/instrument/devices\n",
      "/home/beams/S1IDTEST/bluesky/instrument/devices\n",
      "/home/beams/S1IDTEST/bluesky/instrument/devices\n"
     ]
    }
   ],
   "source": [
    "sys.path.append(\"/home/beams/S1IDTEST/bluesky/instrument/devices\")\n",
    "\n",
    "for p in sys.path: print(p)"
   ]
  },
  {
   "cell_type": "code",
   "execution_count": 3,
   "metadata": {},
   "outputs": [],
   "source": [
    "from apstools.plans import lineup2\n",
    "\n",
    "#RE(lineup2(noisy, motor, -10, 10, 41, nscans = 3))\n",
    "\n",
    "#print(f\"{motor.position=}\")"
   ]
  },
  {
   "cell_type": "code",
   "execution_count": null,
   "metadata": {},
   "outputs": [],
   "source": [
    "import databroker\n",
    "cat = databroker.catalog[\"1id_hexm\"]\n",
    "\n",
    "ds = cat[uid[0]].primary.read()\n",
    "\n",
    "print(ds[m1.name].data)"
   ]
  },
  {
   "cell_type": "code",
   "execution_count": 66,
   "metadata": {},
   "outputs": [
    {
     "ename": "SyntaxError",
     "evalue": "invalid syntax (857534517.py, line 25)",
     "output_type": "error",
     "traceback": [
      "\u001b[0;36m  Cell \u001b[0;32mIn[66], line 25\u001b[0;36m\u001b[0m\n\u001b[0;31m    return thisone=tomox_out, tomo_motor,tomox_in, tomox_out, sample_motor, samplex_out\u001b[0m\n\u001b[0m                  ^\u001b[0m\n\u001b[0;31mSyntaxError\u001b[0m\u001b[0;31m:\u001b[0m invalid syntax\n"
     ]
    }
   ],
   "source": [
    "def choose_system(SMS):\n",
    "    \"\"\" \n",
    "    For choosing which tomo and sms motors.\n",
    "    \"\"\"\n",
    "    #FIXME: adjust to realistic in/out positions\n",
    "    tomo_motor = tomo_e.x\n",
    "    tomox_in = 0\n",
    "    tomox_out = 10\n",
    "\n",
    "    if SMS == \"aero\":\n",
    "        sample_motor = sms_aero.x2\n",
    "        samplex_out = 10\n",
    "    elif SMS == \"mts\":\n",
    "        sample_motor = mts.x2 \n",
    "        samplex_out = 15\n",
    "    elif SMS == \"lab\":\n",
    "        sample_motor = sms_lab.x2\n",
    "        samplex_out = 11\n",
    "        tomo_motor = tomo_c.x\n",
    "        tomox_in = 1\n",
    "        tomox_out = 13        \n",
    "    else:\n",
    "        raise NameError(\"SMS is not defined.\") \n",
    "    \n",
    "    return tomox_out, tomo_motor,tomox_in, tomox_out, sample_motor, samplex_out\n",
    "\n"
   ]
  },
  {
   "cell_type": "code",
   "execution_count": 56,
   "metadata": {},
   "outputs": [
    {
     "name": "stdout",
     "output_type": "stream",
     "text": [
      "EpicsMotor(prefix='1idcm79', name='tomo_c_x', parent='tomo_c', settle_time=0.0, timeout=None, read_attrs=['user_readback', 'user_setpoint'], configuration_attrs=['user_offset', 'user_offset_dir', 'velocity', 'acceleration', 'motor_egu'])\n"
     ]
    }
   ],
   "source": [
    "[tomox_out, tomo_motor,tomox_in, tomox_out, sample_motor, samplex_out] = choose_system(\"lab\")\n",
    "print(tomo_motor)"
   ]
  },
  {
   "cell_type": "code",
   "execution_count": 64,
   "metadata": {},
   "outputs": [],
   "source": [
    "\n",
    "def diode_align(\n",
    "    sms = \"aero\",\n",
    "    startpos = 0,       #initial position of lineup scan (absolute)\n",
    "    startr = -10,       #lineup scan start (relative)\n",
    "    endr = 10,          #lineup scan end (relative)\n",
    "    points = 51,            #number of steps in scan \n",
    "    peak_sens = 2.5,    #threshold for detected peak amplitde\n",
    "    width_sens = 0.8,   #threshold for detected peak width\n",
    "    nscans = 3               #number of scans\n",
    "):\n",
    "    \n",
    "    det = noisy\n",
    "    motor_x = motor\n",
    "    #startr= -9\n",
    "    #endr = 9\n",
    "    \n",
    "    [tomox_out, tomo_motor,tomox_in, tomox_out, sample_motor, samplex_out] = choose_system(sms)\n",
    "    print(f\"{tomox_in=}\")\n",
    "    \n",
    "    yield from bps.mv(motor, startpos)\n",
    "    \n",
    "    print(f\"{motor.position=}\")\n",
    "    \n",
    "    yield from lineup2(\n",
    "        detectors = det, mover = motor_x,\n",
    "        rel_start = startr, rel_end = endr, \n",
    "        points = points, peak_factor = peak_sens, \n",
    "        width_factor = width_sens, nscans = nscans,\n",
    "        md={\"title\":\"SAXS diode lineup scan\"}\n",
    "    )\n",
    "    \n",
    "    print(f\"Diode position after {nscans} scans = {motor_x.position}\")\n"
   ]
  },
  {
   "cell_type": "code",
   "execution_count": 65,
   "metadata": {},
   "outputs": [
    {
     "name": "stdout",
     "output_type": "stream",
     "text": [
      "tomox_in=0\n",
      "motor.position=0.0\n",
      "\n",
      "\n",
      "Transient Scan ID: 123     Time: 2024-02-15 14:16:15\n",
      "Persistent Unique Scan ID: '997359fb-23e9-42db-a787-4593c3997f33'\n",
      "New stream: 'primary'\n",
      "+-----------+------------+------------+------------+\n",
      "|   seq_num |       time |      motor |      noisy |\n",
      "+-----------+------------+------------+------------+\n",
      "|         1 | 14:16:15.6 |    -10.000 |     -0.004 |\n",
      "|         2 | 14:16:15.6 |     -9.600 |      0.008 |\n",
      "|         3 | 14:16:15.7 |     -9.200 |     -0.000 |\n",
      "|         4 | 14:16:15.7 |     -8.800 |     -0.006 |\n",
      "|         5 | 14:16:16.0 |     -8.400 |      0.005 |\n",
      "|         6 | 14:16:16.1 |     -8.000 |     -0.001 |\n",
      "|         7 | 14:16:16.1 |     -7.600 |      0.003 |\n",
      "|         8 | 14:16:16.2 |     -7.200 |      0.006 |\n",
      "|         9 | 14:16:16.2 |     -6.800 |      0.007 |\n",
      "|        10 | 14:16:16.3 |     -6.400 |     -0.001 |\n",
      "|        11 | 14:16:16.4 |     -6.000 |     -0.006 |\n",
      "|        12 | 14:16:16.4 |     -5.600 |     -0.002 |\n",
      "|        13 | 14:16:16.5 |     -5.200 |     -0.008 |\n",
      "|        14 | 14:16:16.6 |     -4.800 |      0.001 |\n",
      "|        15 | 14:16:16.6 |     -4.400 |     -0.008 |\n",
      "|        16 | 14:16:16.7 |     -4.000 |     -0.002 |\n",
      "|        17 | 14:16:16.7 |     -3.600 |      0.000 |\n",
      "|        18 | 14:16:16.8 |     -3.200 |     -0.024 |\n",
      "|        19 | 14:16:16.8 |     -2.800 |     -0.102 |\n",
      "|        20 | 14:16:16.9 |     -2.400 |     -0.412 |\n",
      "|        21 | 14:16:16.9 |     -2.000 |     -1.073 |\n",
      "|        22 | 14:16:17.0 |     -1.600 |     -2.075 |\n",
      "|        23 | 14:16:17.0 |     -1.200 |     -2.884 |\n",
      "|        24 | 14:16:17.1 |     -0.800 |     -2.880 |\n",
      "|        25 | 14:16:17.1 |     -0.400 |     -2.071 |\n",
      "|        26 | 14:16:17.2 |      0.000 |     -1.081 |\n",
      "|        27 | 14:16:17.2 |      0.400 |     -0.399 |\n",
      "|        28 | 14:16:17.3 |      0.800 |     -0.101 |\n",
      "|        29 | 14:16:17.4 |      1.200 |     -0.020 |\n",
      "|        30 | 14:16:17.4 |      1.600 |      0.006 |\n",
      "|        31 | 14:16:17.5 |      2.000 |     -0.004 |\n",
      "|        32 | 14:16:17.6 |      2.400 |     -0.001 |\n",
      "|        33 | 14:16:17.6 |      2.800 |     -0.004 |\n",
      "|        34 | 14:16:17.7 |      3.200 |      0.001 |\n",
      "|        35 | 14:16:17.7 |      3.600 |      0.006 |\n",
      "|        36 | 14:16:17.8 |      4.000 |      0.008 |\n",
      "|        37 | 14:16:17.8 |      4.400 |      0.005 |\n",
      "|        38 | 14:16:17.9 |      4.800 |     -0.002 |\n",
      "|        39 | 14:16:17.9 |      5.200 |     -0.003 |\n",
      "|        40 | 14:16:18.0 |      5.600 |     -0.007 |\n",
      "|        41 | 14:16:18.0 |      6.000 |      0.004 |\n",
      "|        42 | 14:16:18.1 |      6.400 |     -0.000 |\n",
      "|        43 | 14:16:18.1 |      6.800 |      0.007 |\n",
      "|        44 | 14:16:18.2 |      7.200 |     -0.008 |\n",
      "|        45 | 14:16:18.2 |      7.600 |      0.002 |\n",
      "|        46 | 14:16:18.3 |      8.000 |     -0.001 |\n",
      "|        47 | 14:16:18.3 |      8.400 |     -0.004 |\n",
      "|        48 | 14:16:18.4 |      8.800 |      0.002 |\n",
      "|        49 | 14:16:18.5 |      9.200 |     -0.010 |\n",
      "+-----------+------------+------------+------------+\n",
      "|   seq_num |       time |      motor |      noisy |\n",
      "+-----------+------------+------------+------------+\n",
      "|        50 | 14:16:18.5 |      9.600 |     -0.008 |\n",
      "|        51 | 14:16:18.6 |     10.000 |     -0.004 |\n",
      "+-----------+------------+------------+------------+\n",
      "generator rel_scan ['997359fb'] (scan num: 123)\n",
      "Motor: motor\n",
      "========== ====================\n",
      "statistic  noisy               \n",
      "========== ====================\n",
      "n          51                  \n",
      "centroid   -0.986659416364446  \n",
      "sigma      0.8097267424683959  \n",
      "x_at_max_y 4.0                 \n",
      "max_y      0.007914464877083796\n",
      "min_y      -2.883933726483367  \n",
      "mean_y     -0.25780511200365347\n",
      "stddev_y   0.6998228793160775  \n",
      "========== ====================\n",
      "\n",
      "\n",
      "\n",
      "Transient Scan ID: 124     Time: 2024-02-15 14:16:18\n",
      "Persistent Unique Scan ID: 'b8ee8122-0a33-40ab-be27-22b58c3aa25d'\n",
      "New stream: 'primary'\n",
      "+-----------+------------+------------+------------+\n",
      "|   seq_num |       time |      motor |      noisy |\n",
      "+-----------+------------+------------+------------+\n",
      "|         1 | 14:16:18.9 |     -2.893 |     -0.082 |\n",
      "|         2 | 14:16:19.0 |     -2.817 |     -0.102 |\n",
      "|         3 | 14:16:19.0 |     -2.741 |     -0.134 |\n",
      "|         4 | 14:16:19.1 |     -2.665 |     -0.173 |\n",
      "|         5 | 14:16:19.1 |     -2.588 |     -0.234 |\n",
      "|         6 | 14:16:19.2 |     -2.512 |     -0.298 |\n",
      "|         7 | 14:16:19.2 |     -2.436 |     -0.364 |\n",
      "|         8 | 14:16:19.3 |     -2.360 |     -0.448 |\n",
      "|         9 | 14:16:19.3 |     -2.283 |     -0.555 |\n",
      "|        10 | 14:16:19.4 |     -2.207 |     -0.682 |\n",
      "|        11 | 14:16:19.4 |     -2.131 |     -0.805 |\n",
      "|        12 | 14:16:19.5 |     -2.054 |     -0.962 |\n",
      "|        13 | 14:16:19.5 |     -1.978 |     -1.125 |\n",
      "|        14 | 14:16:19.6 |     -1.902 |     -1.318 |\n",
      "|        15 | 14:16:19.6 |     -1.826 |     -1.492 |\n",
      "|        16 | 14:16:19.7 |     -1.749 |     -1.693 |\n",
      "|        17 | 14:16:19.7 |     -1.673 |     -1.893 |\n",
      "|        18 | 14:16:19.8 |     -1.597 |     -2.090 |\n",
      "|        19 | 14:16:19.8 |     -1.521 |     -2.274 |\n",
      "|        20 | 14:16:19.9 |     -1.444 |     -2.459 |\n",
      "|        21 | 14:16:20.0 |     -1.368 |     -2.611 |\n",
      "|        22 | 14:16:20.0 |     -1.292 |     -2.752 |\n",
      "|        23 | 14:16:20.1 |     -1.215 |     -2.867 |\n",
      "|        24 | 14:16:20.1 |     -1.139 |     -2.946 |\n",
      "|        25 | 14:16:20.2 |     -1.063 |     -2.993 |\n",
      "|        26 | 14:16:20.2 |     -0.987 |     -2.995 |\n",
      "|        27 | 14:16:20.3 |     -0.910 |     -2.970 |\n",
      "|        28 | 14:16:20.4 |     -0.834 |     -2.915 |\n",
      "|        29 | 14:16:20.4 |     -0.758 |     -2.821 |\n",
      "|        30 | 14:16:20.5 |     -0.682 |     -2.707 |\n",
      "|        31 | 14:16:20.5 |     -0.605 |     -2.562 |\n",
      "|        32 | 14:16:20.6 |     -0.529 |     -2.391 |\n",
      "|        33 | 14:16:20.6 |     -0.453 |     -2.216 |\n",
      "|        34 | 14:16:20.7 |     -0.376 |     -2.024 |\n",
      "|        35 | 14:16:20.8 |     -0.300 |     -1.827 |\n",
      "|        36 | 14:16:20.8 |     -0.224 |     -1.628 |\n",
      "|        37 | 14:16:20.9 |     -0.148 |     -1.436 |\n",
      "|        38 | 14:16:20.9 |     -0.071 |     -1.248 |\n",
      "|        39 | 14:16:21.0 |      0.005 |     -1.070 |\n",
      "|        40 | 14:16:21.0 |      0.081 |     -0.906 |\n",
      "|        41 | 14:16:21.1 |      0.157 |     -0.760 |\n",
      "|        42 | 14:16:21.2 |      0.234 |     -0.631 |\n",
      "|        43 | 14:16:21.2 |      0.310 |     -0.521 |\n",
      "|        44 | 14:16:21.3 |      0.386 |     -0.431 |\n",
      "|        45 | 14:16:21.3 |      0.462 |     -0.331 |\n",
      "|        46 | 14:16:21.4 |      0.539 |     -0.274 |\n",
      "|        47 | 14:16:21.4 |      0.615 |     -0.219 |\n",
      "|        48 | 14:16:21.5 |      0.691 |     -0.167 |\n",
      "|        49 | 14:16:21.5 |      0.768 |     -0.120 |\n",
      "+-----------+------------+------------+------------+\n",
      "|   seq_num |       time |      motor |      noisy |\n",
      "+-----------+------------+------------+------------+\n",
      "|        50 | 14:16:21.6 |      0.844 |     -0.091 |\n",
      "|        51 | 14:16:21.6 |      0.920 |     -0.060 |\n",
      "+-----------+------------+------------+------------+\n",
      "generator rel_scan ['b8ee8122'] (scan num: 124)\n",
      "Motor: motor\n",
      "========== ====================\n",
      "statistic  noisy               \n",
      "========== ====================\n",
      "n          51                  \n",
      "centroid   -0.9991646420082964 \n",
      "sigma      0.6832585968646891  \n",
      "x_at_max_y 0.920101347797746   \n",
      "max_y      -0.06003823536818224\n",
      "min_y      -2.9953842656613543 \n",
      "mean_y     -1.3466206320829142 \n",
      "stddev_y   1.0399923164240292  \n",
      "========== ====================\n",
      "\n",
      "\n",
      "\n",
      "Transient Scan ID: 125     Time: 2024-02-15 14:16:21\n",
      "Persistent Unique Scan ID: '4a68d49d-7440-4693-9cbd-1c33a634c0b5'\n",
      "New stream: 'primary'\n",
      "+-----------+------------+------------+------------+\n",
      "|   seq_num |       time |      motor |      noisy |\n",
      "+-----------+------------+------------+------------+\n",
      "|         1 | 14:16:22.0 |     -2.608 |     -0.212 |\n",
      "|         2 | 14:16:22.0 |     -2.544 |     -0.259 |\n",
      "|         3 | 14:16:22.1 |     -2.479 |     -0.313 |\n",
      "|         4 | 14:16:22.1 |     -2.415 |     -0.383 |\n",
      "|         5 | 14:16:22.2 |     -2.351 |     -0.462 |\n",
      "|         6 | 14:16:22.2 |     -2.286 |     -0.553 |\n",
      "|         7 | 14:16:22.3 |     -2.222 |     -0.661 |\n",
      "|         8 | 14:16:22.4 |     -2.158 |     -0.772 |\n",
      "|         9 | 14:16:22.4 |     -2.093 |     -0.889 |\n",
      "|        10 | 14:16:22.5 |     -2.029 |     -1.025 |\n",
      "|        11 | 14:16:22.5 |     -1.965 |     -1.155 |\n",
      "|        12 | 14:16:22.6 |     -1.900 |     -1.305 |\n",
      "|        13 | 14:16:22.6 |     -1.836 |     -1.475 |\n",
      "|        14 | 14:16:22.7 |     -1.771 |     -1.625 |\n",
      "|        15 | 14:16:22.8 |     -1.707 |     -1.797 |\n",
      "|        16 | 14:16:22.8 |     -1.643 |     -1.976 |\n",
      "|        17 | 14:16:22.9 |     -1.578 |     -2.135 |\n",
      "|        18 | 14:16:22.9 |     -1.514 |     -2.283 |\n",
      "|        19 | 14:16:23.0 |     -1.450 |     -2.444 |\n",
      "|        20 | 14:16:23.0 |     -1.385 |     -2.587 |\n",
      "|        21 | 14:16:23.1 |     -1.321 |     -2.697 |\n",
      "|        22 | 14:16:23.2 |     -1.257 |     -2.805 |\n",
      "|        23 | 14:16:23.2 |     -1.192 |     -2.892 |\n",
      "|        24 | 14:16:23.3 |     -1.128 |     -2.943 |\n",
      "|        25 | 14:16:23.3 |     -1.064 |     -2.987 |\n",
      "|        26 | 14:16:23.4 |     -0.999 |     -3.003 |\n",
      "|        27 | 14:16:23.4 |     -0.935 |     -2.978 |\n",
      "|        28 | 14:16:23.5 |     -0.870 |     -2.951 |\n",
      "|        29 | 14:16:23.5 |     -0.806 |     -2.890 |\n",
      "|        30 | 14:16:23.6 |     -0.742 |     -2.804 |\n",
      "|        31 | 14:16:23.6 |     -0.677 |     -2.700 |\n",
      "|        32 | 14:16:23.7 |     -0.613 |     -2.581 |\n",
      "|        33 | 14:16:23.8 |     -0.549 |     -2.432 |\n",
      "|        34 | 14:16:23.8 |     -0.484 |     -2.284 |\n",
      "|        35 | 14:16:23.9 |     -0.420 |     -2.122 |\n",
      "|        36 | 14:16:23.9 |     -0.356 |     -1.955 |\n",
      "|        37 | 14:16:24.0 |     -0.291 |     -1.803 |\n",
      "|        38 | 14:16:24.0 |     -0.227 |     -1.632 |\n",
      "|        39 | 14:16:24.1 |     -0.163 |     -1.472 |\n",
      "|        40 | 14:16:24.2 |     -0.098 |     -1.301 |\n",
      "|        41 | 14:16:24.2 |     -0.034 |     -1.162 |\n",
      "|        42 | 14:16:24.3 |      0.031 |     -1.014 |\n",
      "|        43 | 14:16:24.4 |      0.095 |     -0.880 |\n",
      "|        44 | 14:16:24.4 |      0.159 |     -0.768 |\n",
      "|        45 | 14:16:24.5 |      0.224 |     -0.641 |\n",
      "|        46 | 14:16:24.5 |      0.288 |     -0.551 |\n",
      "|        47 | 14:16:24.6 |      0.352 |     -0.474 |\n",
      "|        48 | 14:16:24.6 |      0.417 |     -0.389 |\n",
      "|        49 | 14:16:24.7 |      0.481 |     -0.310 |\n",
      "+-----------+------------+------------+------------+\n",
      "|   seq_num |       time |      motor |      noisy |\n",
      "+-----------+------------+------------+------------+\n",
      "|        50 | 14:16:24.8 |      0.545 |     -0.260 |\n",
      "|        51 | 14:16:24.8 |      0.610 |     -0.213 |\n",
      "+-----------+------------+------------+------------+\n",
      "generator rel_scan ['4a68d49d'] (scan num: 125)\n",
      "Motor: motor\n",
      "========== ====================\n",
      "statistic  noisy               \n",
      "========== ====================\n",
      "n          51                  \n",
      "centroid   -0.9997649854032755 \n",
      "sigma      0.6555087028981278  \n",
      "x_at_max_y -2.608115681844987  \n",
      "max_y      -0.21176234050879483\n",
      "min_y      -3.003059204525324  \n",
      "mean_y     -1.57268681896848   \n",
      "stddev_y   0.9712076121231188  \n",
      "========== ====================\n",
      "\n",
      "Diode position after 3 scans = -0.9997649854032755\n"
     ]
    },
    {
     "data": {
      "text/plain": [
       "('997359fb-23e9-42db-a787-4593c3997f33',\n",
       " 'b8ee8122-0a33-40ab-be27-22b58c3aa25d',\n",
       " '4a68d49d-7440-4693-9cbd-1c33a634c0b5')"
      ]
     },
     "execution_count": 65,
     "metadata": {},
     "output_type": "execute_result"
    },
    {
     "data": {
      "image/png": "[encoded data removed]",
      "text/plain": [
       "<Figure size 500x500 with 1 Axes>"
      ]
     },
     "metadata": {},
     "output_type": "display_data"
    }
   ],
   "source": [
    "RE(diode_align(sms = \"aero\"))\n",
    "\n"
   ]
  },
  {
   "cell_type": "code",
   "execution_count": 61,
   "metadata": {},
   "outputs": [
    {
     "name": "stdout",
     "output_type": "stream",
     "text": [
      "1\n"
     ]
    }
   ],
   "source": [
    "print(tomox_in)"
   ]
  },
  {
   "cell_type": "code",
   "execution_count": 50,
   "metadata": {},
   "outputs": [
    {
     "ename": "NameError",
     "evalue": "name 'tomox_out' is not defined",
     "output_type": "error",
     "traceback": [
      "\u001b[0;31mNameError\u001b[0m\u001b[0;31m:\u001b[0m name 'tomox_out' is not defined\n"
     ]
    }
   ],
   "source": [
    "print(tomox_out)"
   ]
  },
  {
   "cell_type": "code",
   "execution_count": null,
   "metadata": {},
   "outputs": [],
   "source": []
  }
 ],
 "metadata": {
  "kernelspec": {
   "display_name": "bluesky_2024_1",
   "language": "python",
   "name": "python3"
  },
  "language_info": {
   "codemirror_mode": {
    "name": "ipython",
    "version": 3
   },
   "file_extension": ".py",
   "mimetype": "text/x-python",
   "name": "python",
   "nbconvert_exporter": "python",
   "pygments_lexer": "ipython3",
   "version": "3.11.7"
  }
 },
 "nbformat": 4,
 "nbformat_minor": 2
}
